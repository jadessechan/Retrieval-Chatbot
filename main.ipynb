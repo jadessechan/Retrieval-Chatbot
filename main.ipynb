{
 "cells": [
  {
   "cell_type": "code",
   "execution_count": 1,
   "id": "aquatic-pioneer",
   "metadata": {},
   "outputs": [],
   "source": [
    "import nltk\n",
    "import random\n",
    "import string\n",
    "import re\n",
    "import pandas as pd\n",
    "\n",
    "from sklearn.feature_extraction.text import TfidfVectorizer\n",
    "from sklearn.metrics.pairwise import cosine_similarity"
   ]
  },
  {
   "cell_type": "code",
   "execution_count": 2,
   "id": "modern-journalist",
   "metadata": {},
   "outputs": [],
   "source": [
    "data = pd.read_csv('tutoring_data.csv')\n",
    "q_string = ''\n",
    "for i, row in data.iterrows():\n",
    "    q_string = q_string + row.loc['Question'] + \" \"\n",
    "\n",
    "q_string = q_string.lower()\n",
    "# remove special characters and empty spaces\n",
    "q_string = re.sub(r'\\[[0-9]*\\]', ' ', q_string)\n",
    "q_string = re.sub(r'\\s+', ' ', q_string)\n",
    "\n",
    "q_tokens = nltk.sent_tokenize(q_string)"
   ]
  },
  {
   "cell_type": "code",
   "execution_count": 3,
   "id": "discrete-birth",
   "metadata": {},
   "outputs": [],
   "source": [
    "def clean_input(text):\n",
    "    \"\"\" pre-process user input and data \"\"\"\n",
    "    \n",
    "    # remove punctutation\n",
    "    text = text.translate(str.maketrans(' ', ' ', string.punctuation))\n",
    "    # tokenize input\n",
    "    tokens = nltk.word_tokenize(text)\n",
    "    wnl = nltk.stem.WordNetLemmatizer()\n",
    "\n",
    "    for words in tokens:\n",
    "        # lemmatize words\n",
    "        wnl.lemmatize(words)\n",
    "    return tokens"
   ]
  },
  {
   "cell_type": "code",
   "execution_count": 4,
   "id": "significant-danger",
   "metadata": {},
   "outputs": [],
   "source": [
    "greeting_inputs = (\"hey\", \"good morning\", \"good evening\", \"morning\", \"evening\", \"hi\", \"hello\")\n",
    "greeting_responses = [\"Hi\", \"Nice to meet you!\", \"*nods*\", \"Hello!\", \"Welcome!\"]\n",
    "\n",
    "def generate_greeting_response(greeting):\n",
    "    \"\"\" return a random greeting from a pre-defined list \"\"\"\n",
    "\n",
    "    for token in greeting.split():\n",
    "        if token.lower() in greeting_inputs:\n",
    "            return random.choice(greeting_responses)"
   ]
  },
  {
   "cell_type": "code",
   "execution_count": 5,
   "id": "cosmetic-afternoon",
   "metadata": {},
   "outputs": [],
   "source": [
    "def generate_response(user_input):\n",
    "    \"\"\" get cosine similarity of user input and compare with article sentence tokens,\n",
    "     return the token with the highest cosine score \"\"\"\n",
    "\n",
    "    bot_response = ''\n",
    "    # add user input to list of tokens for comparison\n",
    "    q_tokens.append(user_input)\n",
    "    word_vectorizer = TfidfVectorizer(tokenizer=clean_input, stop_words='english')\n",
    "    # convert tokens into a vector\n",
    "    all_word_vectors = word_vectorizer.fit_transform(q_tokens)\n",
    "    # find cosine similarity of user input (last item in list) with article vectors\n",
    "    similar_vector_values = cosine_similarity(all_word_vectors[-1], all_word_vectors)\n",
    "    similar_sentence_number = similar_vector_values.argsort()[0][-2]\n",
    "\n",
    "    matched_vector = similar_vector_values.flatten()\n",
    "    matched_vector.sort()\n",
    "    vector_matched = matched_vector[-2]\n",
    "\n",
    "    if vector_matched == 0:\n",
    "        bot_response += \"Sorry, I don't understand.\"\n",
    "        return bot_response\n",
    "    else:\n",
    "        # output corresponding answer from answer column\n",
    "        bot_response += data.at[similar_sentence_number, 'Answer']\n",
    "        return bot_response"
   ]
  },
  {
   "cell_type": "code",
   "execution_count": 6,
   "id": "oriental-wilson",
   "metadata": {},
   "outputs": [
    {
     "name": "stdout",
     "output_type": "stream",
     "text": [
      "Hi, my name is Bot! \n",
      "I can answer FAQ about Rhodes CS tutoring.\n",
      "To end our conversation, type 'bye' or just thank me ;)\n",
      "Can you tell me what tutoring is?\n",
      "Bot: Tutoring is first-come first-serve for 141, 142, 241 only. Tutors will help you work through concepts, debug, and provide resources for further information.\n",
      "\n",
      "When does tutoring start?\n",
      "Bot: Tutoring begins 5-11pm CDT from Sunday to Thursday (excluding school holidays) using the queue app.\n",
      "Are there any rules for tutoring?\n",
      "Bot: Tutors are asked to limit time for each individual tutoring session to 10-20 minutes, since we have over 150+ students in 141/142/241 and 9 tutors. Tutoring is restricted to tutoring hours only, and only available using the queue app. Please do NOT DM tutors directly.\n",
      "What are some expectations?\n",
      "Bot: Sorry, I don't understand.\n",
      "Are there expectations for tutoring?\n",
      "Bot: Tutoring is first-come first-serve for 141, 142, 241 only. Tutors will help you work through concepts, debug, and provide resources for further information.\n",
      "\n",
      "thanks\n",
      "Bot: You're welcome!\n"
     ]
    }
   ],
   "source": [
    "continue_dialogue = True\n",
    "print(\"Hi, my name is Bot! \\n\"\n",
    "      \"I can answer FAQ about Rhodes CS tutoring.\\n\"\n",
    "      \"To end our conversation, type 'bye' or just thank me ;)\")\n",
    "\n",
    "while continue_dialogue:\n",
    "    user_input = input()\n",
    "    user_input = user_input.lower()\n",
    "    if user_input != 'bye':\n",
    "        if user_input == 'thanks' or user_input == 'thank you':\n",
    "            continue_dialogue = False\n",
    "            print(\"Bot: You're welcome!\")\n",
    "        else:\n",
    "            if generate_greeting_response(user_input) is not None :\n",
    "                print(\"Bot: \" + generate_greeting_response(user_input))\n",
    "            else:\n",
    "                print(\"Bot: \", end=\"\")\n",
    "                print(generate_response(user_input))\n",
    "                q_tokens.remove(user_input)\n",
    "    else:\n",
    "        continue_dialogue = False\n",
    "        print(\"Bot: Bye bye!\")"
   ]
  },
  {
   "cell_type": "code",
   "execution_count": null,
   "id": "seasonal-placement",
   "metadata": {},
   "outputs": [],
   "source": []
  }
 ],
 "metadata": {
  "kernelspec": {
   "display_name": "Python 3",
   "language": "python",
   "name": "python3"
  },
  "language_info": {
   "codemirror_mode": {
    "name": "ipython",
    "version": 3
   },
   "file_extension": ".py",
   "mimetype": "text/x-python",
   "name": "python",
   "nbconvert_exporter": "python",
   "pygments_lexer": "ipython3",
   "version": "3.9.1"
  }
 },
 "nbformat": 4,
 "nbformat_minor": 5
}
