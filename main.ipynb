{
 "cells": [
  {
   "cell_type": "code",
   "execution_count": 9,
   "id": "aquatic-pioneer",
   "metadata": {
    "pycharm": {
     "is_executing": true
    }
   },
   "outputs": [],
   "source": [
    "import nltk\n",
    "import numpy as np\n",
    "import random\n",
    "import string\n",
    "import re\n",
    "\n",
    "from sklearn.feature_extraction.text import TfidfVectorizer\n",
    "from sklearn.metrics.pairwise import cosine_similarity"
   ]
  },
  {
   "cell_type": "code",
   "execution_count": 11,
   "id": "modern-journalist",
   "metadata": {
    "pycharm": {
     "is_executing": true
    }
   },
   "outputs": [],
   "source": [
    "article_text = ''\n",
    "with open('raft.txt') as f:\n",
    "    article_text += \" \".join(line.strip() for line in f)      \n",
    "\n",
    "article_text = article_text.lower()\n",
    "# remove special characters and empty spaces\n",
    "article_text = re.sub(r'\\[[0-9]*\\]', ' ', article_text)\n",
    "article_text = re.sub(r'\\s+', ' ', article_text)\n",
    "\n",
    "article_sentences = nltk.sent_tokenize(article_text)"
   ]
  },
  {
   "cell_type": "code",
   "execution_count": 12,
   "id": "discrete-birth",
   "metadata": {
    "pycharm": {
     "is_executing": true
    }
   },
   "outputs": [],
   "source": [
    "def clean_input(text):\n",
    "    \"\"\" pre-process user input and data \"\"\"\n",
    "    \n",
    "    # remove punctutation\n",
    "    text = text.translate(str.maketrans(' ', ' ', string.punctuation))\n",
    "    # tokenize input\n",
    "    tokens = nltk.word_tokenize(text)\n",
    "    wnl = nltk.stem.WordNetLemmatizer()\n",
    "\n",
    "    for words in tokens:\n",
    "        # lemmatize words\n",
    "        wnl.lemmatize(words)\n",
    "    return tokens"
   ]
  },
  {
   "cell_type": "code",
   "execution_count": 13,
   "id": "significant-danger",
   "metadata": {
    "pycharm": {
     "is_executing": true
    }
   },
   "outputs": [],
   "source": [
    "greeting_inputs = (\"hey\", \"good morning\", \"good evening\", \"morning\", \"evening\", \"hi\", \"hello\")\n",
    "greeting_responses = [\"Hi\", \"Nice to meet you!\", \"*nods*\", \"Hello!\", \"Welcome!\"]\n",
    "\n",
    "def generate_greeting_response(greeting):\n",
    "    \"\"\" return a random greeting from a pre-defined list \"\"\"\n",
    "\n",
    "    for token in greeting.split():\n",
    "        if token.lower() in greeting_inputs:\n",
    "            return random.choice(greeting_responses)"
   ]
  },
  {
   "cell_type": "code",
   "execution_count": 14,
   "id": "cosmetic-afternoon",
   "metadata": {
    "pycharm": {
     "is_executing": true
    }
   },
   "outputs": [],
   "source": [
    "def generate_response(user_input):\n",
    "    \"\"\" get cosine similarity of user input and compare with article sentence tokens,\n",
    "     return the token with the highest cosine score \"\"\"\n",
    "\n",
    "    bot_response = ''\n",
    "    # add user input to list of tokens for comparison\n",
    "    article_sentences.append(user_input)\n",
    "    word_vectorizer = TfidfVectorizer(tokenizer=clean_input, stop_words='english')\n",
    "    # convert tokens into a vector\n",
    "    all_word_vectors = word_vectorizer.fit_transform(article_sentences)\n",
    "    # find cosine similarity of user input (last item in list) with article vectors\n",
    "    similar_vector_values = cosine_similarity(all_word_vectors[-1], all_word_vectors)\n",
    "    similar_sentence_number = similar_vector_values.argsort()[0][-2]\n",
    "\n",
    "    matched_vector = similar_vector_values.flatten()\n",
    "    matched_vector.sort()\n",
    "    vector_matched = matched_vector[-2]\n",
    "\n",
    "    if vector_matched == 0:\n",
    "        bot_response += \"Sorry, I don't understand.\"\n",
    "        return bot_response\n",
    "    else:\n",
    "        bot_response += article_sentences[similar_sentence_number]\n",
    "        return bot_response"
   ]
  },
  {
   "cell_type": "code",
   "execution_count": 16,
   "id": "oriental-wilson",
   "metadata": {
    "pycharm": {
     "is_executing": true
    }
   },
   "outputs": [
    {
     "name": "stdout",
     "output_type": "stream",
     "text": [
      "Hi, my name is Bot and I'm an expert at Raft! \n",
      "Ask me anything about the Raft paper published in 2014.\n",
      "To end our conversation, type 'bye' or just thank me ;)\n",
      "How does a leader get elected?\n",
      "Bot: 4 election safety: at most one leader can be elected in a given term.\n",
      "Tell me about log replication\n",
      "Bot: for example, in raft we separated leader election, log replication, safety, and membership changes.\n",
      "What states can a server be in?\n",
      "Bot: at any given time each server is in one of three states: leader, follower, or candidate.\n",
      "thanks\n",
      "Bot: You're welcome!\n"
     ]
    }
   ],
   "source": [
    "continue_dialogue = True\n",
    "print(\"Hi, my name is Bot and I'm an expert at Raft! \\n\"\n",
    "      \"Ask me anything about the Raft paper published in 2014.\\n\"\n",
    "      \"To end our conversation, type 'bye' or just thank me ;)\")\n",
    "\n",
    "while continue_dialogue:\n",
    "    user_input = input()\n",
    "    user_input = user_input.lower()\n",
    "    if user_input != 'bye':\n",
    "        if user_input == 'thanks' or user_input == 'thank you':\n",
    "            continue_dialogue = False\n",
    "            print(\"Bot: You're welcome!\")\n",
    "        else:\n",
    "            if generate_greeting_response(user_input) is not None :\n",
    "                print(\"Bot: \" + generate_greeting_response(user_input))\n",
    "            else:\n",
    "                print(\"Bot: \", end=\"\")\n",
    "                print(generate_response(user_input))\n",
    "                article_sentences.remove(user_input)\n",
    "    else:\n",
    "        continue_dialogue = False\n",
    "        print(\"Bot: Bye bye!\")"
   ]
  },
  {
   "cell_type": "code",
   "execution_count": null,
   "id": "seasonal-placement",
   "metadata": {
    "pycharm": {
     "is_executing": true
    }
   },
   "outputs": [],
   "source": []
  }
 ],
 "metadata": {
  "kernelspec": {
   "display_name": "Python 3",
   "language": "python",
   "name": "python3"
  },
  "language_info": {
   "codemirror_mode": {
    "name": "ipython",
    "version": 3
   },
   "file_extension": ".py",
   "mimetype": "text/x-python",
   "name": "python",
   "nbconvert_exporter": "python",
   "pygments_lexer": "ipython3",
   "version": "3.9.1"
  }
 },
 "nbformat": 4,
 "nbformat_minor": 5
}